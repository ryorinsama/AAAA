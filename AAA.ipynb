{
  "nbformat": 4,
  "nbformat_minor": 0,
  "metadata": {
    "colab": {
      "provenance": [],
      "authorship_tag": "ABX9TyNRBFUU6ZL2tYcd48VGSoGX",
      "include_colab_link": true
    },
    "kernelspec": {
      "name": "python3",
      "display_name": "Python 3"
    },
    "language_info": {
      "name": "python"
    }
  },
  "cells": [
    {
      "cell_type": "markdown",
      "metadata": {
        "id": "view-in-github",
        "colab_type": "text"
      },
      "source": [
        "<a href=\"https://colab.research.google.com/github/ryorinsama/AAAA/blob/main/AAA.ipynb\" target=\"_parent\"><img src=\"https://colab.research.google.com/assets/colab-badge.svg\" alt=\"Open In Colab\"/></a>"
      ]
    },
    {
      "cell_type": "code",
      "source": [
        "import numpy as np\n",
        "import pandas as pd\n",
        "# univariate multi-step lstm for the power usage dataset\n",
        "from math import sqrt\n",
        "from numpy import concatenate\n",
        "from matplotlib import pyplot\n",
        "from pandas import read_csv\n",
        "from pandas import DataFrame\n",
        "from pandas import concat\n",
        "from sklearn.preprocessing import MinMaxScaler\n",
        "from sklearn.preprocessing import LabelEncoder\n",
        "from sklearn.metrics import mean_squared_error\n",
        "from keras.models import Sequential\n",
        "from keras.layers import Dense\n",
        "from keras.layers import LSTM"
      ],
      "metadata": {
        "id": "zDvZq9_oGzNf"
      },
      "execution_count": 145,
      "outputs": []
    },
    {
      "cell_type": "code",
      "source": [
        "from google.colab import drive \n",
        "drive.mount('/content/drive')"
      ],
      "metadata": {
        "colab": {
          "base_uri": "https://localhost:8080/",
          "height": 0
        },
        "id": "i92QgpooG1sb",
        "outputId": "01fe1599-76a7-479b-ca3c-aa784f18df88"
      },
      "execution_count": 146,
      "outputs": [
        {
          "output_type": "stream",
          "name": "stdout",
          "text": [
            "Drive already mounted at /content/drive; to attempt to forcibly remount, call drive.mount(\"/content/drive\", force_remount=True).\n"
          ]
        }
      ]
    },
    {
      "cell_type": "code",
      "source": [
        "# convert series to supervised learning\n",
        "def series_to_supervised(data, n_in=1, n_out=1, dropnan=True):\n",
        "  n_vars = 1 if type(data) is list else data.shape[1]\n",
        "  df = DataFrame(data)\n",
        "  cols, names = list(), list()\n",
        "  # input sequence (t-n, ... t-1)\n",
        "  for i in range(n_in, 0, -1):\n",
        "    cols.append(df.shift(i))\n",
        "    names += [('var%d(t-%d)' % (j+1, i)) for j in range(n_vars)]\n",
        "  # forecast sequence (t, t+1, ... t+n)\n",
        "  for i in range(0, n_out):\n",
        "    cols.append(df.shift(-i))\n",
        "    if i == 0:\n",
        "      names += [('var%d(t)' % (j+1)) for j in range(n_vars)]\n",
        "    else:\n",
        "      names += [('var%d(t+%d)' % (j+1, i)) for j in range(n_vars)]\n",
        "  # put it all together\n",
        "  agg = concat(cols, axis=1)\n",
        "  agg.columns = names\n",
        "  # drop rows with NaN values\n",
        "  if dropnan:\n",
        "    agg.dropna(inplace=True)\n",
        "  return agg"
      ],
      "metadata": {
        "id": "p1FeCLMlMkzK"
      },
      "execution_count": 147,
      "outputs": []
    },
    {
      "cell_type": "code",
      "source": [
        "# load dataset\n",
        "dataset = pd.read_csv('drive/My Drive/Colab Notebooks/datanewnew.csv', header=0, index_col='Date', parse_dates=True)\n",
        "values = dataset.values"
      ],
      "metadata": {
        "id": "JBG9VznbEagw"
      },
      "execution_count": 148,
      "outputs": []
    },
    {
      "cell_type": "code",
      "source": [
        "# ensure all data is float\n",
        "values = values.astype('float32')"
      ],
      "metadata": {
        "id": "DA6Eel4SEcq1"
      },
      "execution_count": 149,
      "outputs": []
    },
    {
      "cell_type": "code",
      "source": [
        "# normalize features\n",
        "scaler = MinMaxScaler(feature_range=(0, 1))\n",
        "scaled = scaler.fit_transform(values)\n",
        "# frame as supervised learning\n",
        "reframed = series_to_supervised(scaled, 1, 1)\n",
        "# drop columns we don't want to predict\n",
        "reframed.drop(reframed.columns[[3]], axis=1, inplace=True)\n",
        "print(reframed.head())"
      ],
      "metadata": {
        "colab": {
          "base_uri": "https://localhost:8080/",
          "height": 0
        },
        "id": "1uQBKyc-EfN-",
        "outputId": "a813dd95-7513-4234-ec55-acc38954f367"
      },
      "execution_count": 150,
      "outputs": [
        {
          "output_type": "stream",
          "name": "stdout",
          "text": [
            "   var1(t-1)  var2(t-1)   var1(t)\n",
            "1        0.0        0.0  0.000000\n",
            "2        0.0        0.0  0.000000\n",
            "3        0.0        0.0  0.000000\n",
            "4        0.0        0.0  0.000000\n",
            "5        0.0        0.0  0.018144\n"
          ]
        }
      ]
    },
    {
      "cell_type": "code",
      "source": [
        "# split into train and test sets\n",
        "values = reframed.values\n",
        "n_train_hours = 365 * 24\n",
        "train = values[:n_train_hours, :]\n",
        "test = values[n_train_hours:, :]\n",
        "# split into input and outputs\n",
        "train_X, train_y = train[:, :-1], train[:, -1]\n",
        "test_X, test_y = test[:, :-1], test[:, -1]\n",
        "# reshape input to be 3D [samples, timesteps, features]\n",
        "train_X = train_X.reshape((train_X.shape[0], 1, train_X.shape[1]))\n",
        "test_X = test_X.reshape((test_X.shape[0], 1, test_X.shape[1]))\n",
        "print(train_X.shape, train_y.shape, test_X.shape, test_y.shape)"
      ],
      "metadata": {
        "colab": {
          "base_uri": "https://localhost:8080/",
          "height": 0
        },
        "id": "QapxhaPaEAJY",
        "outputId": "6d902374-c642-4ba3-8bdb-3131e7f1bcd1"
      },
      "execution_count": 151,
      "outputs": [
        {
          "output_type": "stream",
          "name": "stdout",
          "text": [
            "(8760, 1, 2) (8760,) (8927, 1, 2) (8927,)\n"
          ]
        }
      ]
    },
    {
      "cell_type": "code",
      "source": [
        "# design network\n",
        "model = Sequential()\n",
        "model.add(LSTM(50, input_shape=(train_X.shape[1], train_X.shape[2])))\n",
        "model.add(Dense(1))\n",
        "model.compile(loss='mse', optimizer='adam')\n",
        "# fit network\n",
        "history = model.fit(train_X, train_y, epochs=50, batch_size=32, validation_data=(test_X, test_y), verbose=2, shuffle=False)\n",
        "# plot history\n",
        "pyplot.plot(history.history['loss'], label='train')\n",
        "pyplot.plot(history.history['val_loss'], label='test')\n",
        "pyplot.legend()\n",
        "pyplot.show()"
      ],
      "metadata": {
        "colab": {
          "base_uri": "https://localhost:8080/",
          "height": 2000
        },
        "id": "br-S-7oMEElH",
        "outputId": "287abeb8-14c7-4788-94ae-c3bcd9942f82"
      },
      "execution_count": 152,
      "outputs": [
        {
          "output_type": "stream",
          "name": "stdout",
          "text": [
            "Epoch 1/50\n",
            "274/274 - 4s - loss: 0.0282 - val_loss: 0.0111 - 4s/epoch - 15ms/step\n",
            "Epoch 2/50\n",
            "274/274 - 2s - loss: 0.0096 - val_loss: 0.0111 - 2s/epoch - 9ms/step\n",
            "Epoch 3/50\n",
            "274/274 - 3s - loss: 0.0096 - val_loss: 0.0111 - 3s/epoch - 11ms/step\n",
            "Epoch 4/50\n",
            "274/274 - 1s - loss: 0.0096 - val_loss: 0.0111 - 1s/epoch - 5ms/step\n",
            "Epoch 5/50\n",
            "274/274 - 1s - loss: 0.0096 - val_loss: 0.0111 - 1s/epoch - 5ms/step\n",
            "Epoch 6/50\n",
            "274/274 - 2s - loss: 0.0096 - val_loss: 0.0112 - 2s/epoch - 6ms/step\n",
            "Epoch 7/50\n",
            "274/274 - 1s - loss: 0.0096 - val_loss: 0.0112 - 1s/epoch - 4ms/step\n",
            "Epoch 8/50\n",
            "274/274 - 1s - loss: 0.0096 - val_loss: 0.0112 - 984ms/epoch - 4ms/step\n",
            "Epoch 9/50\n",
            "274/274 - 1s - loss: 0.0096 - val_loss: 0.0112 - 1s/epoch - 5ms/step\n",
            "Epoch 10/50\n",
            "274/274 - 1s - loss: 0.0096 - val_loss: 0.0112 - 1s/epoch - 5ms/step\n",
            "Epoch 11/50\n",
            "274/274 - 2s - loss: 0.0096 - val_loss: 0.0112 - 2s/epoch - 6ms/step\n",
            "Epoch 12/50\n",
            "274/274 - 1s - loss: 0.0096 - val_loss: 0.0112 - 1s/epoch - 5ms/step\n",
            "Epoch 13/50\n",
            "274/274 - 1s - loss: 0.0096 - val_loss: 0.0112 - 1s/epoch - 5ms/step\n",
            "Epoch 14/50\n",
            "274/274 - 1s - loss: 0.0096 - val_loss: 0.0112 - 1s/epoch - 4ms/step\n",
            "Epoch 15/50\n",
            "274/274 - 1s - loss: 0.0096 - val_loss: 0.0112 - 1s/epoch - 4ms/step\n",
            "Epoch 16/50\n",
            "274/274 - 1s - loss: 0.0096 - val_loss: 0.0112 - 1s/epoch - 5ms/step\n",
            "Epoch 17/50\n",
            "274/274 - 1s - loss: 0.0096 - val_loss: 0.0112 - 1s/epoch - 4ms/step\n",
            "Epoch 18/50\n",
            "274/274 - 1s - loss: 0.0096 - val_loss: 0.0112 - 1s/epoch - 5ms/step\n",
            "Epoch 19/50\n",
            "274/274 - 1s - loss: 0.0096 - val_loss: 0.0112 - 1s/epoch - 5ms/step\n",
            "Epoch 20/50\n",
            "274/274 - 1s - loss: 0.0096 - val_loss: 0.0112 - 1s/epoch - 5ms/step\n",
            "Epoch 21/50\n",
            "274/274 - 2s - loss: 0.0096 - val_loss: 0.0112 - 2s/epoch - 6ms/step\n",
            "Epoch 22/50\n",
            "274/274 - 1s - loss: 0.0096 - val_loss: 0.0112 - 1s/epoch - 5ms/step\n",
            "Epoch 23/50\n",
            "274/274 - 1s - loss: 0.0096 - val_loss: 0.0112 - 1s/epoch - 4ms/step\n",
            "Epoch 24/50\n",
            "274/274 - 1s - loss: 0.0096 - val_loss: 0.0112 - 1s/epoch - 5ms/step\n",
            "Epoch 25/50\n",
            "274/274 - 1s - loss: 0.0096 - val_loss: 0.0112 - 1s/epoch - 5ms/step\n",
            "Epoch 26/50\n",
            "274/274 - 1s - loss: 0.0096 - val_loss: 0.0112 - 1s/epoch - 5ms/step\n",
            "Epoch 27/50\n",
            "274/274 - 1s - loss: 0.0096 - val_loss: 0.0112 - 1s/epoch - 5ms/step\n",
            "Epoch 28/50\n",
            "274/274 - 1s - loss: 0.0096 - val_loss: 0.0112 - 1s/epoch - 4ms/step\n",
            "Epoch 29/50\n",
            "274/274 - 1s - loss: 0.0096 - val_loss: 0.0112 - 1s/epoch - 4ms/step\n",
            "Epoch 30/50\n",
            "274/274 - 2s - loss: 0.0096 - val_loss: 0.0112 - 2s/epoch - 6ms/step\n",
            "Epoch 31/50\n",
            "274/274 - 1s - loss: 0.0096 - val_loss: 0.0112 - 1s/epoch - 5ms/step\n",
            "Epoch 32/50\n",
            "274/274 - 1s - loss: 0.0096 - val_loss: 0.0112 - 1s/epoch - 4ms/step\n",
            "Epoch 33/50\n",
            "274/274 - 1s - loss: 0.0096 - val_loss: 0.0112 - 1s/epoch - 4ms/step\n",
            "Epoch 34/50\n",
            "274/274 - 1s - loss: 0.0096 - val_loss: 0.0112 - 1s/epoch - 4ms/step\n",
            "Epoch 35/50\n",
            "274/274 - 1s - loss: 0.0096 - val_loss: 0.0112 - 984ms/epoch - 4ms/step\n",
            "Epoch 36/50\n",
            "274/274 - 1s - loss: 0.0096 - val_loss: 0.0112 - 1s/epoch - 5ms/step\n",
            "Epoch 37/50\n",
            "274/274 - 1s - loss: 0.0096 - val_loss: 0.0112 - 1s/epoch - 4ms/step\n",
            "Epoch 38/50\n",
            "274/274 - 1s - loss: 0.0096 - val_loss: 0.0112 - 1s/epoch - 4ms/step\n",
            "Epoch 39/50\n",
            "274/274 - 1s - loss: 0.0096 - val_loss: 0.0112 - 1s/epoch - 5ms/step\n",
            "Epoch 40/50\n",
            "274/274 - 1s - loss: 0.0096 - val_loss: 0.0112 - 1s/epoch - 5ms/step\n",
            "Epoch 41/50\n",
            "274/274 - 1s - loss: 0.0096 - val_loss: 0.0112 - 1s/epoch - 5ms/step\n",
            "Epoch 42/50\n",
            "274/274 - 1s - loss: 0.0096 - val_loss: 0.0112 - 1s/epoch - 4ms/step\n",
            "Epoch 43/50\n",
            "274/274 - 1s - loss: 0.0096 - val_loss: 0.0112 - 1s/epoch - 4ms/step\n",
            "Epoch 44/50\n",
            "274/274 - 1s - loss: 0.0096 - val_loss: 0.0112 - 1s/epoch - 4ms/step\n",
            "Epoch 45/50\n",
            "274/274 - 1s - loss: 0.0096 - val_loss: 0.0112 - 1s/epoch - 4ms/step\n",
            "Epoch 46/50\n",
            "274/274 - 1s - loss: 0.0096 - val_loss: 0.0112 - 973ms/epoch - 4ms/step\n",
            "Epoch 47/50\n",
            "274/274 - 1s - loss: 0.0096 - val_loss: 0.0112 - 1s/epoch - 5ms/step\n",
            "Epoch 48/50\n",
            "274/274 - 1s - loss: 0.0096 - val_loss: 0.0112 - 1s/epoch - 5ms/step\n",
            "Epoch 49/50\n",
            "274/274 - 2s - loss: 0.0096 - val_loss: 0.0112 - 2s/epoch - 6ms/step\n",
            "Epoch 50/50\n",
            "274/274 - 1s - loss: 0.0096 - val_loss: 0.0112 - 937ms/epoch - 3ms/step\n"
          ]
        },
        {
          "output_type": "display_data",
          "data": {
            "text/plain": [
              "<Figure size 432x288 with 1 Axes>"
            ],
            "image/png": "[encoded data removed]"
          },
          "metadata": {
            "needs_background": "light"
          }
        }
      ]
    },
    {
      "cell_type": "code",
      "source": [
        "# make a prediction\n",
        "yhat = model.predict(test_X)\n",
        "test_X = test_X.reshape((test_X.shape[0], test_X.shape[2]))\n",
        "# invert scaling for forecast\n",
        "inv_yhat = concatenate((yhat, test_X[:, 1:]), axis=1)\n",
        "inv_yhat = scaler.inverse_transform(inv_yhat)\n",
        "inv_yhat = inv_yhat[:,0]\n",
        "# invert scaling for actual\n",
        "test_y = test_y.reshape((len(test_y), 1))\n",
        "inv_y = concatenate((test_y, test_X[:, 1:]), axis=1)\n",
        "inv_y = scaler.inverse_transform(inv_y)\n",
        "inv_y = inv_y[:,0]"
      ],
      "metadata": {
        "colab": {
          "base_uri": "https://localhost:8080/",
          "height": 0
        },
        "id": "Pe81zyxMEF9i",
        "outputId": "0e5c9922-83e6-4441-f891-e76757524b0c"
      },
      "execution_count": 153,
      "outputs": [
        {
          "output_type": "stream",
          "name": "stdout",
          "text": [
            "279/279 [==============================] - 1s 2ms/step\n"
          ]
        }
      ]
    },
    {
      "cell_type": "code",
      "source": [
        "# calculate RMSE\n",
        "rmse = sqrt(mean_squared_error(inv_y, inv_yhat))\n",
        "print('Test RMSE: %.3f' % rmse)"
      ],
      "metadata": {
        "colab": {
          "base_uri": "https://localhost:8080/",
          "height": 0
        },
        "id": "i_YrU3hHEIYu",
        "outputId": "a8ccc8f3-3d44-48de-9096-7878533a1c8a"
      },
      "execution_count": 154,
      "outputs": [
        {
          "output_type": "stream",
          "name": "stdout",
          "text": [
            "Test RMSE: 19.883\n"
          ]
        }
      ]
    }
  ]
}